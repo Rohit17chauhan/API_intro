{
 "cells": [
  {
   "cell_type": "code",
   "execution_count": 1,
   "id": "6b67fce2-7835-480a-8fa3-63295975d23a",
   "metadata": {},
   "outputs": [
    {
     "data": {
      "text/plain": [
       "' Q1. What is an API? Give an example, where an API is used in real life.'"
      ]
     },
     "execution_count": 1,
     "metadata": {},
     "output_type": "execute_result"
    }
   ],
   "source": [
    "\"\"\" Q1. What is an API? Give an example, where an API is used in real life.\"\"\""
   ]
  },
  {
   "cell_type": "code",
   "execution_count": 2,
   "id": "d5245a49-7969-47fe-8349-2988cec33db6",
   "metadata": {},
   "outputs": [],
   "source": [
    "Ans1=\"An API, or Application Programming Interface, is a set of rules and protocols that allows one software application or system to interact with another. It defines the methods and data formats that developers can use to request and exchange information between different software components,Example of API usage in real life:Imagine you're using a weather application on your smartphone. When you open the app and request the current weather for your location, the app doesn't have its own weather data. Instead, it sends a request to a weather data provider's API. The API then processes the request, fetches the relevant weather information from its database, and sends it back to the app. The app can then display the weather data to you.\"\n",
    "\n"
   ]
  },
  {
   "cell_type": "code",
   "execution_count": 3,
   "id": "5c7a0371-fb35-43aa-9103-12d33619a738",
   "metadata": {},
   "outputs": [
    {
     "data": {
      "text/plain": [
       "\"An API, or Application Programming Interface, is a set of rules and protocols that allows one software application or system to interact with another. It defines the methods and data formats that developers can use to request and exchange information between different software components,Example of API usage in real life:Imagine you're using a weather application on your smartphone. When you open the app and request the current weather for your location, the app doesn't have its own weather data. Instead, it sends a request to a weather data provider's API. The API then processes the request, fetches the relevant weather information from its database, and sends it back to the app. The app can then display the weather data to you.\""
      ]
     },
     "execution_count": 3,
     "metadata": {},
     "output_type": "execute_result"
    }
   ],
   "source": [
    "Ans1"
   ]
  },
  {
   "cell_type": "code",
   "execution_count": 4,
   "id": "9a01e78e-a89c-40ea-ad36-18720f15fb71",
   "metadata": {},
   "outputs": [
    {
     "data": {
      "text/plain": [
       "'Q2. Give advantages and disadvantages of using API.'"
      ]
     },
     "execution_count": 4,
     "metadata": {},
     "output_type": "execute_result"
    }
   ],
   "source": [
    "\"\"\"Q2. Give advantages and disadvantages of using API.\"\"\""
   ]
  },
  {
   "cell_type": "code",
   "execution_count": 5,
   "id": "38e1fdc8-c877-4f57-93f5-76e691284885",
   "metadata": {},
   "outputs": [],
   "source": [
    "Ans2=\"Advantages of Using APIs:APIs enable different software systems and components to work together, APIs allow developers to reuse existing code and functionality, saving time and effort,APIs allow developers to reuse existing code and functionality, \""
   ]
  },
  {
   "cell_type": "code",
   "execution_count": 6,
   "id": "df32d297-7b09-4ade-9973-89e49f977ac2",
   "metadata": {},
   "outputs": [
    {
     "data": {
      "text/plain": [
       "'Advantages of Using APIs:APIs enable different software systems and components to work together, APIs allow developers to reuse existing code and functionality, saving time and effort,APIs allow developers to reuse existing code and functionality, '"
      ]
     },
     "execution_count": 6,
     "metadata": {},
     "output_type": "execute_result"
    }
   ],
   "source": [
    "Ans2"
   ]
  },
  {
   "cell_type": "code",
   "execution_count": 7,
   "id": "cc565d98-d768-4bf8-8e0e-ce74b24a2c40",
   "metadata": {},
   "outputs": [],
   "source": [
    "Ans_2=\"Disadvantages of Using APIs:When you rely on external APIs, you become dependent on the stability and availability of those APIs,APIs may undergo updates and changes over time, While APIs can enhance security, they can also introduce security risks if not properly implemented and secured.\""
   ]
  },
  {
   "cell_type": "code",
   "execution_count": 8,
   "id": "a626e122-b593-4514-b77b-248efc516ae2",
   "metadata": {},
   "outputs": [
    {
     "data": {
      "text/plain": [
       "'Disadvantages of Using APIs:When you rely on external APIs, you become dependent on the stability and availability of those APIs,APIs may undergo updates and changes over time, While APIs can enhance security, they can also introduce security risks if not properly implemented and secured.'"
      ]
     },
     "execution_count": 8,
     "metadata": {},
     "output_type": "execute_result"
    }
   ],
   "source": [
    "Ans_2"
   ]
  },
  {
   "cell_type": "code",
   "execution_count": 9,
   "id": "3b2f1443-52f6-4766-a1df-7b64b68474a1",
   "metadata": {},
   "outputs": [
    {
     "data": {
      "text/plain": [
       "'Q3. What is a Web API? Differentiate between API and Web API.'"
      ]
     },
     "execution_count": 9,
     "metadata": {},
     "output_type": "execute_result"
    }
   ],
   "source": [
    "\"\"\"Q3. What is a Web API? Differentiate between API and Web API.\"\"\""
   ]
  },
  {
   "cell_type": "code",
   "execution_count": 10,
   "id": "46398026-5ffd-404f-8d93-803b9767bf91",
   "metadata": {},
   "outputs": [],
   "source": [
    "Ans3=\"A Web API (Web Application Programming Interface) is a specific type of API that is designed to be accessed over the internet using the HTTP protocol. It allows two software applications to communicate and exchange data with each other using standard web protocols and methods.\""
   ]
  },
  {
   "cell_type": "code",
   "execution_count": 11,
   "id": "d96ce281-e89d-41e9-a080-28cc073b6c39",
   "metadata": {},
   "outputs": [
    {
     "data": {
      "text/plain": [
       "'A Web API (Web Application Programming Interface) is a specific type of API that is designed to be accessed over the internet using the HTTP protocol. It allows two software applications to communicate and exchange data with each other using standard web protocols and methods.'"
      ]
     },
     "execution_count": 11,
     "metadata": {},
     "output_type": "execute_result"
    }
   ],
   "source": [
    "Ans3"
   ]
  },
  {
   "cell_type": "code",
   "execution_count": 12,
   "id": "c45d354b-8c13-4178-aa6f-6a8f6342dd14",
   "metadata": {},
   "outputs": [],
   "source": [
    "difference=\"An API is a more general term that encompasses various types of interfaces and protocols for communication between software components,A Web API specifically uses the HTTP protocol for communication, making it accessible over the internet via URLs,APIs can be used for a wide range of purposes including hardware control ,Web APIs are primarily used for providing access to web-based services, data, or functionality.\""
   ]
  },
  {
   "cell_type": "code",
   "execution_count": 13,
   "id": "66b3b612-a7dc-47e4-a06c-dbd8f1e31204",
   "metadata": {},
   "outputs": [
    {
     "data": {
      "text/plain": [
       "'An API is a more general term that encompasses various types of interfaces and protocols for communication between software components,A Web API specifically uses the HTTP protocol for communication, making it accessible over the internet via URLs,APIs can be used for a wide range of purposes including hardware control ,Web APIs are primarily used for providing access to web-based services, data, or functionality.'"
      ]
     },
     "execution_count": 13,
     "metadata": {},
     "output_type": "execute_result"
    }
   ],
   "source": [
    "difference"
   ]
  },
  {
   "cell_type": "code",
   "execution_count": 14,
   "id": "7493e948-a91c-46a5-8bb4-82b0809f7a1b",
   "metadata": {},
   "outputs": [
    {
     "data": {
      "text/plain": [
       "'Q4. Explain REST and SOAP Architecture. Mention shortcomings of SOAP.'"
      ]
     },
     "execution_count": 14,
     "metadata": {},
     "output_type": "execute_result"
    }
   ],
   "source": [
    "\"\"\"Q4. Explain REST and SOAP Architecture. Mention shortcomings of SOAP.\"\"\""
   ]
  },
  {
   "cell_type": "code",
   "execution_count": 17,
   "id": "9cb85b0c-cf68-4e26-b00f-5659f905c301",
   "metadata": {},
   "outputs": [],
   "source": [
    "Ans4REST=\"REST follows a client-server architecture where the client and server are separate entities that communicate over a stateless protocol (usually HTTP),REST models resources as entities with unique identifiers (URIs, or URLs). These resources can represent objects, data, or services. Clients interact with resources by using standard HTTP methods (GET, POST, PUT, DELETE) to perform CRUD (Create, Read, Update, Delete) operations.\""
   ]
  },
  {
   "cell_type": "code",
   "execution_count": 18,
   "id": "c3d124de-1620-4bf0-a23a-3bcec4d6a3b2",
   "metadata": {},
   "outputs": [
    {
     "data": {
      "text/plain": [
       "'REST follows a client-server architecture where the client and server are separate entities that communicate over a stateless protocol (usually HTTP),REST models resources as entities with unique identifiers (URIs, or URLs). These resources can represent objects, data, or services. Clients interact with resources by using standard HTTP methods (GET, POST, PUT, DELETE) to perform CRUD (Create, Read, Update, Delete) operations.'"
      ]
     },
     "execution_count": 18,
     "metadata": {},
     "output_type": "execute_result"
    }
   ],
   "source": [
    "Ans4REST"
   ]
  },
  {
   "cell_type": "code",
   "execution_count": 19,
   "id": "b10fe431-c920-4a87-a340-c79aca972899",
   "metadata": {},
   "outputs": [],
   "source": [
    "Ans4_SOAP=\"SOAP messages are typically formatted in XML, which is a platform-independent, text-based format.SOAP has a strict specification that defines the structure of messages, including headers and bodies, as well as the rules for message processing and security.SOAP can be used with various transport protocols, including HTTP, SMTP, and more. It's not tied to a specific transport layer.\""
   ]
  },
  {
   "cell_type": "code",
   "execution_count": 20,
   "id": "c4eb8b56-4019-4784-8fc0-7c9719125fec",
   "metadata": {},
   "outputs": [
    {
     "data": {
      "text/plain": [
       "\"SOAP messages are typically formatted in XML, which is a platform-independent, text-based format.SOAP has a strict specification that defines the structure of messages, including headers and bodies, as well as the rules for message processing and security.SOAP can be used with various transport protocols, including HTTP, SMTP, and more. It's not tied to a specific transport layer.\""
      ]
     },
     "execution_count": 20,
     "metadata": {},
     "output_type": "execute_result"
    }
   ],
   "source": [
    "Ans4_SOAP"
   ]
  },
  {
   "cell_type": "code",
   "execution_count": 22,
   "id": "99ff0f70-dc60-434e-921e-c30b5bcd9413",
   "metadata": {},
   "outputs": [],
   "source": [
    "Shortcomings_of_SOAP=\"SOAP messages are often larger and more complex compared to RESTful messages, primarily due to the XML format and the inclusion of headers. This can lead to higher bandwidth usage and slower performance.The XML-based nature of SOAP can result in performance overhead, both in terms of parsing XML and the additional processing required for SOAP headers.\""
   ]
  },
  {
   "cell_type": "code",
   "execution_count": 23,
   "id": "6f1dabbc-56a0-43ab-9ae4-1bc8646bcae9",
   "metadata": {},
   "outputs": [
    {
     "data": {
      "text/plain": [
       "'SOAP messages are often larger and more complex compared to RESTful messages, primarily due to the XML format and the inclusion of headers. This can lead to higher bandwidth usage and slower performance.The XML-based nature of SOAP can result in performance overhead, both in terms of parsing XML and the additional processing required for SOAP headers.'"
      ]
     },
     "execution_count": 23,
     "metadata": {},
     "output_type": "execute_result"
    }
   ],
   "source": [
    "Shortcomings_of_SOAP"
   ]
  },
  {
   "cell_type": "code",
   "execution_count": 24,
   "id": "1b78c805-ac22-4b7e-9dd4-ad07350f3c1c",
   "metadata": {},
   "outputs": [
    {
     "data": {
      "text/plain": [
       "'Q5. Differentiate between REST and SOAP.'"
      ]
     },
     "execution_count": 24,
     "metadata": {},
     "output_type": "execute_result"
    }
   ],
   "source": [
    "\"\"\"Q5. Differentiate between REST and SOAP.\"\"\""
   ]
  },
  {
   "cell_type": "code",
   "execution_count": 25,
   "id": "435fa534-be53-4399-98c0-0dadf159bef1",
   "metadata": {},
   "outputs": [],
   "source": [
    "Ans_5_rest=\"Relies on REST (Representational State Transfer) architecture using HTTP.Generally transports data in JSON. It is based on URI. Because REST follows stateless model, REST does not enforces message format as XML or JSON etc.\tIt works with GET, POST, PUT, DELETE.\""
   ]
  },
  {
   "cell_type": "code",
   "execution_count": 26,
   "id": "3f84419f-7776-4650-8d16-3a50f69bbbc9",
   "metadata": {},
   "outputs": [
    {
     "data": {
      "text/plain": [
       "'Relies on REST (Representational State Transfer) architecture using HTTP.Generally transports data in JSON. It is based on URI. Because REST follows stateless model, REST does not enforces message format as XML or JSON etc.\\tIt works with GET, POST, PUT, DELETE.'"
      ]
     },
     "execution_count": 26,
     "metadata": {},
     "output_type": "execute_result"
    }
   ],
   "source": [
    "Ans_5_rest"
   ]
  },
  {
   "cell_type": "code",
   "execution_count": 27,
   "id": "232a08ac-ea05-477c-b4d8-9497ae57b20f",
   "metadata": {},
   "outputs": [],
   "source": [
    "Ans_5_SOAP=\"Relies on SOAP (Simple Object Access Protocol),Transports data in standard XML format.Because it is XML based and relies on SOAP, it works with WSDL.Works over HTTP, HTTPS, SMTP, XMPP\""
   ]
  },
  {
   "cell_type": "code",
   "execution_count": 28,
   "id": "26119cd5-3ec5-448a-bc37-9713651c47e9",
   "metadata": {},
   "outputs": [
    {
     "data": {
      "text/plain": [
       "'Relies on SOAP (Simple Object Access Protocol),Transports data in standard XML format.Because it is XML based and relies on SOAP, it works with WSDL.Works over HTTP, HTTPS, SMTP, XMPP'"
      ]
     },
     "execution_count": 28,
     "metadata": {},
     "output_type": "execute_result"
    }
   ],
   "source": [
    "Ans_5_SOAP"
   ]
  },
  {
   "cell_type": "code",
   "execution_count": null,
   "id": "17feacad-26a6-4337-9aec-149116930708",
   "metadata": {},
   "outputs": [],
   "source": []
  }
 ],
 "metadata": {
  "kernelspec": {
   "display_name": "Python 3 (ipykernel)",
   "language": "python",
   "name": "python3"
  },
  "language_info": {
   "codemirror_mode": {
    "name": "ipython",
    "version": 3
   },
   "file_extension": ".py",
   "mimetype": "text/x-python",
   "name": "python",
   "nbconvert_exporter": "python",
   "pygments_lexer": "ipython3",
   "version": "3.10.8"
  }
 },
 "nbformat": 4,
 "nbformat_minor": 5
}
